{
 "cells": [
  {
   "cell_type": "code",
   "execution_count": 25,
   "metadata": {},
   "outputs": [],
   "source": [
    "import csv"
   ]
  },
  {
   "cell_type": "code",
   "execution_count": 26,
   "metadata": {},
   "outputs": [
    {
     "name": "stdout",
     "output_type": "stream",
     "text": [
      "Id,EmployeeName,JobTitle,BasePay,OvertimePay,OtherPay,Benefits,TotalPay,TotalPayBenefits,Year,Notes,Agency,Status\n",
      "AA,NATHANIEL FORD,GENERAL MANAGER-METROPOLITAN TRANSIT AUTHORITY,167411.18,0.0,400184.25,,567595.43,567595.43,2011,,San Francisco,\n",
      "AB,GARY JIMENEZ,CAPTAIN III (POLICE DEPARTMENT),155966.02,245131.88,137811.38,,538909.28,538909.28,2011,,San Francisco,\n",
      "AC,ALBERT PARDINI,CAPTAIN III (POLICE DEPARTMENT),212739.13,106088.18,16452.6,,335279.91,335279.91,2011,,San Francisco,\n",
      "AD,CHRISTOPHER CHONG,WIRE ROPE CABLE MAINTENANCE MECHANIC,77916.0,56120.71,198306.9,,332343.61,332343.61,2011,,San Francisco,\n",
      "AE,PATRICK GARDNER,DEPUTY CHIEF OF DEPARTMENT,(FIRE DEPARTMENT),134401.6,9737.0,182234.59,,326373.19,326373.19,2011,,San Francisco,\n"
     ]
    }
   ],
   "source": [
    "# Open a csv file and print the first 5 entries\n",
    "with open('Salaries.csv', mode='r', newline='') as csvfile:\n",
    "    reader = csv.reader(csvfile, delimiter=',')\n",
    "    for n, row in enumerate(reader):\n",
    "        print(','.join(row))\n",
    "        if n == 5:\n",
    "            break"
   ]
  },
  {
   "cell_type": "code",
   "execution_count": 27,
   "metadata": {},
   "outputs": [],
   "source": [
    "my_list = [['Sparky', 7, 'Brown', 'Corgi'], ['Fido', 4, 'White', 'Husky']]"
   ]
  },
  {
   "cell_type": "code",
   "execution_count": 28,
   "metadata": {},
   "outputs": [],
   "source": [
    "# Open a csv file in the write mode and add the list above in the 'rows' mode\n",
    "with open('Dogs.csv', 'w', newline='') as f:\n",
    "    writer = csv.writer(f)\n",
    "    writer.writerow(['Name', 'Age', 'Colour', 'Breed'])\n",
    "    writer.writerows(my_list)"
   ]
  },
  {
   "cell_type": "code",
   "execution_count": 29,
   "metadata": {},
   "outputs": [],
   "source": [
    "# Open a csv file in the write mode and add the list above in the 'row' mode\n",
    "with open('Dogs_2.csv', 'w', newline='') as f:\n",
    "    writer = csv.writer(f)\n",
    "    writer.writerow(['Name', 'Age', 'Colour', 'Breed'])\n",
    "    writer.writerow(my_list)"
   ]
  },
  {
   "cell_type": "code",
   "execution_count": 30,
   "metadata": {},
   "outputs": [],
   "source": [
    "import json"
   ]
  },
  {
   "cell_type": "code",
   "execution_count": 31,
   "metadata": {},
   "outputs": [
    {
     "name": "stdout",
     "output_type": "stream",
     "text": [
      "{'Employees': [{'userId': 'person1', 'jobTitle': 'Developer', 'firstName': 'Harry', 'lastName': 'Berg', 'employeeCode': 'E1', 'region': 'CA', 'phoneNumber': '123456', 'emailAddress': 'harry.berg@aicore.com'}, {'userId': 'person2', 'jobTitle': 'Developer', 'firstName': 'Nihir', 'lastName': 'Vedd', 'employeeCode': 'E2', 'region': 'CA', 'phoneNumber': '1111111', 'emailAddress': 'nihir.vedd@aicore.com'}, {'userId': 'person3', 'jobTitle': 'Program Directory', 'firstName': 'Joao', 'lastName': 'Pereira', 'employeeCode': 'E3', 'region': 'CA', 'phoneNumber': '2222222', 'emailAddress': 'joao.pereira@aicore.com'}]}\n"
     ]
    },
    {
     "data": {
      "text/plain": [
       "dict"
      ]
     },
     "execution_count": 31,
     "metadata": {},
     "output_type": "execute_result"
    }
   ],
   "source": [
    "# Open json file and print the contents and the type\n",
    "with open('JSON_sample.json', mode='r') as f:\n",
    "    json_dict = json.load(f)\n",
    "\n",
    "print(json_dict)\n",
    "type(json_dict)"
   ]
  },
  {
   "cell_type": "code",
   "execution_count": 32,
   "metadata": {},
   "outputs": [],
   "source": [
    "test_dict = {'a': 1, 'b': 2, 'c': 3, 'd': 4}\n",
    "with open('JSON_test.json', mode='w') as f:\n",
    "    json.dump(test_dict, f)"
   ]
  },
  {
   "cell_type": "code",
   "execution_count": 33,
   "metadata": {},
   "outputs": [
    {
     "name": "stdout",
     "output_type": "stream",
     "text": [
      "{'name': 'John', 'age': 30, 'city': 'New York'}\n",
      "<class 'dict'>\n"
     ]
    }
   ],
   "source": [
    "# Parses the JSON string into a dictionary using the 'loads' method\n",
    "x =  '{\"name\": \"John\", \"age\": 30, \"city\": \"New York\"}'\n",
    "y = json.loads(x)\n",
    "print(y)\n",
    "print(type(y))"
   ]
  },
  {
   "cell_type": "code",
   "execution_count": 34,
   "metadata": {},
   "outputs": [
    {
     "name": "stdout",
     "output_type": "stream",
     "text": [
      "{\"a\": 3, \"b\": 4}\n"
     ]
    }
   ],
   "source": [
    "# The opposite can be done with the 'dumps' method\n",
    "test_dict = {'a': 3, 'b': 4}\n",
    "new_json = json.dumps(test_dict)\n",
    "print(new_json)"
   ]
  },
  {
   "cell_type": "code",
   "execution_count": 35,
   "metadata": {},
   "outputs": [],
   "source": [
    "import yaml"
   ]
  },
  {
   "cell_type": "code",
   "execution_count": 36,
   "metadata": {},
   "outputs": [
    {
     "name": "stdout",
     "output_type": "stream",
     "text": [
      "<class 'dict'>\n",
      "{'Person': [{'name': 'Ivan', 'surname': 'Ying', 'role': 'Instructor', 'IQ': 0}, {'name': 'Not Ivan', 'surname': 'Gniy', 'role': 'Doppelganger', 'IQ': 150}], 'Animals': ['Cat', 'Dog', 'Shoebill', 'Kakapo']}\n",
      "dict_keys(['Person', 'Animals'])\n"
     ]
    }
   ],
   "source": [
    "with open('yaml_example.yaml', 'r') as stream:\n",
    "    data_loaded = yaml.safe_load(stream)\n",
    "\n",
    "print(type(data_loaded))\n",
    "print(data_loaded)\n",
    "print(data_loaded.keys())"
   ]
  },
  {
   "cell_type": "code",
   "execution_count": 37,
   "metadata": {},
   "outputs": [
    {
     "name": "stdout",
     "output_type": "stream",
     "text": [
      "The first element of Person is: {'name': 'Ivan', 'surname': 'Ying', 'role': 'Instructor', 'IQ': 0}\n",
      "The name of the first element of Person is: Ivan\n",
      "The second element of Person is: {'name': 'Not Ivan', 'surname': 'Gniy', 'role': 'Doppelganger', 'IQ': 150}\n",
      "The name of the second element of Person is: Not Ivan\n",
      "The value corresponding to Animals is: ['Cat', 'Dog', 'Shoebill', 'Kakapo']\n"
     ]
    }
   ],
   "source": [
    "print(f\"The first element of Person is: {data_loaded['Person'][0]}\")\n",
    "print(f\"The name of the first element of Person is: {data_loaded['Person'][0]['name']}\")\n",
    "print(f\"The second element of Person is: {data_loaded['Person'][1]}\")\n",
    "print(f\"The name of the second element of Person is: {data_loaded['Person'][1]['name']}\")\n",
    "print(f'The value corresponding to Animals is: {data_loaded[\"Animals\"]}')"
   ]
  },
  {
   "cell_type": "code",
   "execution_count": 38,
   "metadata": {},
   "outputs": [
    {
     "name": "stdout",
     "output_type": "stream",
     "text": [
      "{'Employees': [{'userId': 'person1', 'jobTitle': 'Developer', 'firstName': 'Harry', 'lastName': 'Berg', 'employeeCode': 'E1', 'region': 'CA', 'phoneNumber': '123456', 'emailAddress': 'harry.berg@aicore.com'}, {'userId': 'person2', 'jobTitle': 'Developer', 'firstName': 'Nihir', 'lastName': 'Vedd', 'employeeCode': 'E2', 'region': 'CA', 'phoneNumber': '1111111', 'emailAddress': 'nihir.vedd@aicore.com'}, {'userId': 'person3', 'jobTitle': 'Program Directory', 'firstName': 'Joao', 'lastName': 'Pereira', 'employeeCode': 'E3', 'region': 'CA', 'phoneNumber': '2222222', 'emailAddress': 'joao.pereira@aicore.com'}]}\n"
     ]
    }
   ],
   "source": [
    "import json\n",
    "\n",
    "with open('JSON_sample.json', mode='r') as f:\n",
    "    my_dict = json.load(f)\n",
    "\n",
    "print(my_dict)"
   ]
  },
  {
   "cell_type": "code",
   "execution_count": 39,
   "metadata": {},
   "outputs": [],
   "source": [
    "with open('YAML_from_JSON.yaml', 'w') as f:\n",
    "        yaml.dump(my_dict, f)"
   ]
  }
 ],
 "metadata": {
  "interpreter": {
   "hash": "1bc9a4f8d4e8d69a0bd0548b2a3cecf1769cd937e358eac704e8188baed0b9c1"
  },
  "kernelspec": {
   "display_name": "Python 3.8.13 ('df_test')",
   "language": "python",
   "name": "python3"
  },
  "language_info": {
   "codemirror_mode": {
    "name": "ipython",
    "version": 3
   },
   "file_extension": ".py",
   "mimetype": "text/x-python",
   "name": "python",
   "nbconvert_exporter": "python",
   "pygments_lexer": "ipython3",
   "version": "3.8.13"
  },
  "orig_nbformat": 4
 },
 "nbformat": 4,
 "nbformat_minor": 2
}
